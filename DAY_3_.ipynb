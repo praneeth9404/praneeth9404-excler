{
  "nbformat": 4,
  "nbformat_minor": 0,
  "metadata": {
    "colab": {
      "provenance": [],
      "authorship_tag": "ABX9TyPNubQlgTWDDam6EZ3erzQV",
      "include_colab_link": true
    },
    "kernelspec": {
      "name": "python3",
      "display_name": "Python 3"
    },
    "language_info": {
      "name": "python"
    }
  },
  "cells": [
    {
      "cell_type": "markdown",
      "metadata": {
        "id": "view-in-github",
        "colab_type": "text"
      },
      "source": [
        "<a href=\"https://colab.research.google.com/github/praneeth9404/praneeth9404-excler/blob/main/DAY_3_.ipynb\" target=\"_parent\"><img src=\"https://colab.research.google.com/assets/colab-badge.svg\" alt=\"Open In Colab\"/></a>"
      ]
    },
    {
      "cell_type": "code",
      "source": [
        "# Input marks for three subjects\n",
        "marks1 = float(input(\"Enter marks for subject 1: \"))\n",
        "marks2 = float(input(\"Enter marks for subject 2: \"))\n",
        "marks3 = float(input(\"Enter marks for subject 3: \"))\n",
        "\n",
        "# Calculate the average\n",
        "average = (marks1 + marks2 + marks3) / 3\n",
        "\n",
        "# Determine the grade based on the average\n",
        "if average >= 90:\n",
        "    print(\"Grade: A\")\n",
        "elif 80 <= average < 90:\n",
        "        print(\"Grade: B\")\n",
        "elif 70 <= average < 80:\n",
        "        print(\"Grade: C\")\n",
        "else:\n",
        "        print(\"Grade: Fail\")\n"
      ],
      "metadata": {
        "id": "t5PsI1dX4WQn"
      },
      "execution_count": null,
      "outputs": []
    }
  ]
}