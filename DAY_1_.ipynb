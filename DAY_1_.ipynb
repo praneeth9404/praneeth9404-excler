{
  "nbformat": 4,
  "nbformat_minor": 0,
  "metadata": {
    "colab": {
      "provenance": [],
      "authorship_tag": "ABX9TyO65BORXFffzN2Ve25fHoAg",
      "include_colab_link": true
    },
    "kernelspec": {
      "name": "python3",
      "display_name": "Python 3"
    },
    "language_info": {
      "name": "python"
    }
  },
  "cells": [
    {
      "cell_type": "markdown",
      "metadata": {
        "id": "view-in-github",
        "colab_type": "text"
      },
      "source": [
        "<a href=\"https://colab.research.google.com/github/praneeth9404/praneeth9404-excler/blob/main/DAY_1_.ipynb\" target=\"_parent\"><img src=\"https://colab.research.google.com/assets/colab-badge.svg\" alt=\"Open In Colab\"/></a>"
      ]
    },
    {
      "cell_type": "code",
      "execution_count": null,
      "metadata": {
        "id": "vVTJxcg-wYK0",
        "colab": {
          "base_uri": "https://localhost:8080/"
        },
        "outputId": "07f601c1-167a-49be-d7ae-2e40cc42e640"
      },
      "outputs": [
        {
          "output_type": "stream",
          "name": "stdout",
          "text": [
            "Integer variable: 10  Type: <class 'int'>\n",
            "Float variable: 3.14  Type: <class 'float'>\n",
            "String variable: Hello, World!  Type: <class 'str'>\n",
            "Boolean variable: True  Type: <class 'bool'>\n"
          ]
        }
      ],
      "source": [
        "#!/usr/bin/env python\n",
        "# coding: utf-8\n",
        "\n",
        "# In[2]:\n",
        "\n",
        "\n",
        "integer_var = 10\n",
        "float_var = 3.14\n",
        "string_var = \"Hello, World!\"\n",
        "boolean_var = True\n",
        "\n",
        "print(\"Integer variable:\", integer_var, \" Type:\", type(integer_var))\n",
        "print(\"Float variable:\", float_var, \" Type:\", type(float_var))\n",
        "print(\"String variable:\", string_var, \" Type:\", type(string_var))\n",
        "print(\"Boolean variable:\", boolean_var, \" Type:\", type(boolean_var))\n",
        "\n",
        "\n",
        "# In[ ]:\n",
        "\n",
        "\n",
        "\n",
        "\n"
      ]
    }
  ]
}